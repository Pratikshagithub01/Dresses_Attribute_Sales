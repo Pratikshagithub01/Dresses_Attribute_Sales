{
  "nbformat": 4,
  "nbformat_minor": 0,
  "metadata": {
    "colab": {
      "provenance": []
    },
    "kernelspec": {
      "name": "python3",
      "display_name": "Python 3"
    },
    "language_info": {
      "name": "python"
    }
  },
  "cells": [
    {
      "cell_type": "code",
      "execution_count": 302,
      "metadata": {
        "colab": {
          "base_uri": "https://localhost:8080/"
        },
        "id": "UmyWfjxHpVeh",
        "outputId": "59f3e6da-77aa-4e86-b1a8-80f98c65cafe"
      },
      "outputs": [
        {
          "output_type": "stream",
          "name": "stderr",
          "text": [
            "[nltk_data] Downloading package punkt to /root/nltk_data...\n",
            "[nltk_data]   Package punkt is already up-to-date!\n",
            "[nltk_data] Downloading package stopwords to /root/nltk_data...\n",
            "[nltk_data]   Package stopwords is already up-to-date!\n",
            "[nltk_data] Downloading package wordnet to /root/nltk_data...\n",
            "[nltk_data]   Package wordnet is already up-to-date!\n",
            "[nltk_data] Downloading package omw-1.4 to /root/nltk_data...\n",
            "[nltk_data]   Package omw-1.4 is already up-to-date!\n"
          ]
        },
        {
          "output_type": "execute_result",
          "data": {
            "text/plain": [
              "True"
            ]
          },
          "metadata": {},
          "execution_count": 302
        }
      ],
      "source": [
        "import pandas as pd\n",
        "import numpy as np\n",
        "import os\n",
        "import nltk\n",
        "import seaborn as sns\n",
        "import tensorflow as tf\n",
        "import matplotlib.pyplot as plt \n",
        "import warnings\n",
        "warnings.filterwarnings('ignore')\n",
        "from wordcloud import WordCloud\n",
        "nltk.download('punkt')\n",
        "nltk.download('stopwords')\n",
        "nltk.download('wordnet')\n"
      ]
    },
    {
      "cell_type": "code",
      "source": [
        "import pandas as pd"
      ],
      "metadata": {
        "id": "KzCws-sZrhvo"
      },
      "execution_count": 303,
      "outputs": []
    },
    {
      "cell_type": "code",
      "source": [
        "df = pd.read_excel('/content/drive/MyDrive/Attribute DataSet.xlsx')"
      ],
      "metadata": {
        "id": "-vLys9q7rro5"
      },
      "execution_count": 304,
      "outputs": []
    },
    {
      "cell_type": "code",
      "source": [
        "print(df)"
      ],
      "metadata": {
        "id": "aK1lwPtpsvMB",
        "colab": {
          "base_uri": "https://localhost:8080/"
        },
        "outputId": "fb524fae-672f-4f8d-a16b-822427290485"
      },
      "execution_count": 305,
      "outputs": [
        {
          "output_type": "stream",
          "name": "stdout",
          "text": [
            "       Dress_ID    Style    Price  Rating  Size  Season   NeckLine  \\\n",
            "0    1006032852     Sexy      Low     4.6     M  Summer     o-neck   \n",
            "1    1212192089   Casual      Low     0.0     L  Summer     o-neck   \n",
            "2    1190380701  vintage     High     0.0     L  Automn     o-neck   \n",
            "3     966005983    Brief  Average     4.6     L  Spring     o-neck   \n",
            "4     876339541     cute      Low     4.5     M  Summer     o-neck   \n",
            "..          ...      ...      ...     ...   ...     ...        ...   \n",
            "495   713391965   Casual      Low     4.7     M  Spring     o-neck   \n",
            "496   722565148     Sexy      Low     4.3  free  Summer     o-neck   \n",
            "497   532874347   Casual  Average     4.7     M  Summer     v-neck   \n",
            "498   655464934   Casual  Average     4.6     L  winter  boat-neck   \n",
            "499   919930954   Casual      Low     4.4  free  Summer     v-neck   \n",
            "\n",
            "    SleeveLength waiseline       Material  FabricType  Decoration  \\\n",
            "0      sleevless    empire            NaN     chiffon     ruffles   \n",
            "1          Petal   natural     microfiber         NaN     ruffles   \n",
            "2           full   natural       polyster         NaN         NaN   \n",
            "3           full   natural           silk     chiffon  embroidary   \n",
            "4      butterfly   natural  chiffonfabric     chiffon         bow   \n",
            "..           ...       ...            ...         ...         ...   \n",
            "495         full   natural       polyster         NaN         NaN   \n",
            "496         full    empire         cotton         NaN         NaN   \n",
            "497         full    empire         cotton         NaN        lace   \n",
            "498    sleevless    empire           silk  broadcloth    applique   \n",
            "499        short    empire         cotton    Corduroy        lace   \n",
            "\n",
            "    Pattern Type  Recommendation  \n",
            "0         animal               1  \n",
            "1         animal               0  \n",
            "2          print               0  \n",
            "3          print               1  \n",
            "4            dot               0  \n",
            "..           ...             ...  \n",
            "495        solid               1  \n",
            "496          NaN               0  \n",
            "497        solid               1  \n",
            "498        print               1  \n",
            "499        solid               0  \n",
            "\n",
            "[500 rows x 14 columns]\n"
          ]
        }
      ]
    },
    {
      "cell_type": "code",
      "source": [
        "df.head()"
      ],
      "metadata": {
        "id": "pNZ-79x9tU5I",
        "colab": {
          "base_uri": "https://localhost:8080/",
          "height": 206
        },
        "outputId": "25f62a2f-b4ec-49c8-e2c6-68b26a5b8e5e"
      },
      "execution_count": 306,
      "outputs": [
        {
          "output_type": "execute_result",
          "data": {
            "text/plain": [
              "     Dress_ID    Style    Price  Rating Size  Season NeckLine SleeveLength  \\\n",
              "0  1006032852     Sexy      Low     4.6    M  Summer   o-neck    sleevless   \n",
              "1  1212192089   Casual      Low     0.0    L  Summer   o-neck        Petal   \n",
              "2  1190380701  vintage     High     0.0    L  Automn   o-neck         full   \n",
              "3   966005983    Brief  Average     4.6    L  Spring   o-neck         full   \n",
              "4   876339541     cute      Low     4.5    M  Summer   o-neck    butterfly   \n",
              "\n",
              "  waiseline       Material FabricType  Decoration Pattern Type  Recommendation  \n",
              "0    empire            NaN    chiffon     ruffles       animal               1  \n",
              "1   natural     microfiber        NaN     ruffles       animal               0  \n",
              "2   natural       polyster        NaN         NaN        print               0  \n",
              "3   natural           silk    chiffon  embroidary        print               1  \n",
              "4   natural  chiffonfabric    chiffon         bow          dot               0  "
            ],
            "text/html": [
              "\n",
              "  <div id=\"df-38af6494-f8b0-4e90-a10f-b164e7ed900e\">\n",
              "    <div class=\"colab-df-container\">\n",
              "      <div>\n",
              "<style scoped>\n",
              "    .dataframe tbody tr th:only-of-type {\n",
              "        vertical-align: middle;\n",
              "    }\n",
              "\n",
              "    .dataframe tbody tr th {\n",
              "        vertical-align: top;\n",
              "    }\n",
              "\n",
              "    .dataframe thead th {\n",
              "        text-align: right;\n",
              "    }\n",
              "</style>\n",
              "<table border=\"1\" class=\"dataframe\">\n",
              "  <thead>\n",
              "    <tr style=\"text-align: right;\">\n",
              "      <th></th>\n",
              "      <th>Dress_ID</th>\n",
              "      <th>Style</th>\n",
              "      <th>Price</th>\n",
              "      <th>Rating</th>\n",
              "      <th>Size</th>\n",
              "      <th>Season</th>\n",
              "      <th>NeckLine</th>\n",
              "      <th>SleeveLength</th>\n",
              "      <th>waiseline</th>\n",
              "      <th>Material</th>\n",
              "      <th>FabricType</th>\n",
              "      <th>Decoration</th>\n",
              "      <th>Pattern Type</th>\n",
              "      <th>Recommendation</th>\n",
              "    </tr>\n",
              "  </thead>\n",
              "  <tbody>\n",
              "    <tr>\n",
              "      <th>0</th>\n",
              "      <td>1006032852</td>\n",
              "      <td>Sexy</td>\n",
              "      <td>Low</td>\n",
              "      <td>4.6</td>\n",
              "      <td>M</td>\n",
              "      <td>Summer</td>\n",
              "      <td>o-neck</td>\n",
              "      <td>sleevless</td>\n",
              "      <td>empire</td>\n",
              "      <td>NaN</td>\n",
              "      <td>chiffon</td>\n",
              "      <td>ruffles</td>\n",
              "      <td>animal</td>\n",
              "      <td>1</td>\n",
              "    </tr>\n",
              "    <tr>\n",
              "      <th>1</th>\n",
              "      <td>1212192089</td>\n",
              "      <td>Casual</td>\n",
              "      <td>Low</td>\n",
              "      <td>0.0</td>\n",
              "      <td>L</td>\n",
              "      <td>Summer</td>\n",
              "      <td>o-neck</td>\n",
              "      <td>Petal</td>\n",
              "      <td>natural</td>\n",
              "      <td>microfiber</td>\n",
              "      <td>NaN</td>\n",
              "      <td>ruffles</td>\n",
              "      <td>animal</td>\n",
              "      <td>0</td>\n",
              "    </tr>\n",
              "    <tr>\n",
              "      <th>2</th>\n",
              "      <td>1190380701</td>\n",
              "      <td>vintage</td>\n",
              "      <td>High</td>\n",
              "      <td>0.0</td>\n",
              "      <td>L</td>\n",
              "      <td>Automn</td>\n",
              "      <td>o-neck</td>\n",
              "      <td>full</td>\n",
              "      <td>natural</td>\n",
              "      <td>polyster</td>\n",
              "      <td>NaN</td>\n",
              "      <td>NaN</td>\n",
              "      <td>print</td>\n",
              "      <td>0</td>\n",
              "    </tr>\n",
              "    <tr>\n",
              "      <th>3</th>\n",
              "      <td>966005983</td>\n",
              "      <td>Brief</td>\n",
              "      <td>Average</td>\n",
              "      <td>4.6</td>\n",
              "      <td>L</td>\n",
              "      <td>Spring</td>\n",
              "      <td>o-neck</td>\n",
              "      <td>full</td>\n",
              "      <td>natural</td>\n",
              "      <td>silk</td>\n",
              "      <td>chiffon</td>\n",
              "      <td>embroidary</td>\n",
              "      <td>print</td>\n",
              "      <td>1</td>\n",
              "    </tr>\n",
              "    <tr>\n",
              "      <th>4</th>\n",
              "      <td>876339541</td>\n",
              "      <td>cute</td>\n",
              "      <td>Low</td>\n",
              "      <td>4.5</td>\n",
              "      <td>M</td>\n",
              "      <td>Summer</td>\n",
              "      <td>o-neck</td>\n",
              "      <td>butterfly</td>\n",
              "      <td>natural</td>\n",
              "      <td>chiffonfabric</td>\n",
              "      <td>chiffon</td>\n",
              "      <td>bow</td>\n",
              "      <td>dot</td>\n",
              "      <td>0</td>\n",
              "    </tr>\n",
              "  </tbody>\n",
              "</table>\n",
              "</div>\n",
              "      <button class=\"colab-df-convert\" onclick=\"convertToInteractive('df-38af6494-f8b0-4e90-a10f-b164e7ed900e')\"\n",
              "              title=\"Convert this dataframe to an interactive table.\"\n",
              "              style=\"display:none;\">\n",
              "        \n",
              "  <svg xmlns=\"http://www.w3.org/2000/svg\" height=\"24px\"viewBox=\"0 0 24 24\"\n",
              "       width=\"24px\">\n",
              "    <path d=\"M0 0h24v24H0V0z\" fill=\"none\"/>\n",
              "    <path d=\"M18.56 5.44l.94 2.06.94-2.06 2.06-.94-2.06-.94-.94-2.06-.94 2.06-2.06.94zm-11 1L8.5 8.5l.94-2.06 2.06-.94-2.06-.94L8.5 2.5l-.94 2.06-2.06.94zm10 10l.94 2.06.94-2.06 2.06-.94-2.06-.94-.94-2.06-.94 2.06-2.06.94z\"/><path d=\"M17.41 7.96l-1.37-1.37c-.4-.4-.92-.59-1.43-.59-.52 0-1.04.2-1.43.59L10.3 9.45l-7.72 7.72c-.78.78-.78 2.05 0 2.83L4 21.41c.39.39.9.59 1.41.59.51 0 1.02-.2 1.41-.59l7.78-7.78 2.81-2.81c.8-.78.8-2.07 0-2.86zM5.41 20L4 18.59l7.72-7.72 1.47 1.35L5.41 20z\"/>\n",
              "  </svg>\n",
              "      </button>\n",
              "      \n",
              "  <style>\n",
              "    .colab-df-container {\n",
              "      display:flex;\n",
              "      flex-wrap:wrap;\n",
              "      gap: 12px;\n",
              "    }\n",
              "\n",
              "    .colab-df-convert {\n",
              "      background-color: #E8F0FE;\n",
              "      border: none;\n",
              "      border-radius: 50%;\n",
              "      cursor: pointer;\n",
              "      display: none;\n",
              "      fill: #1967D2;\n",
              "      height: 32px;\n",
              "      padding: 0 0 0 0;\n",
              "      width: 32px;\n",
              "    }\n",
              "\n",
              "    .colab-df-convert:hover {\n",
              "      background-color: #E2EBFA;\n",
              "      box-shadow: 0px 1px 2px rgba(60, 64, 67, 0.3), 0px 1px 3px 1px rgba(60, 64, 67, 0.15);\n",
              "      fill: #174EA6;\n",
              "    }\n",
              "\n",
              "    [theme=dark] .colab-df-convert {\n",
              "      background-color: #3B4455;\n",
              "      fill: #D2E3FC;\n",
              "    }\n",
              "\n",
              "    [theme=dark] .colab-df-convert:hover {\n",
              "      background-color: #434B5C;\n",
              "      box-shadow: 0px 1px 3px 1px rgba(0, 0, 0, 0.15);\n",
              "      filter: drop-shadow(0px 1px 2px rgba(0, 0, 0, 0.3));\n",
              "      fill: #FFFFFF;\n",
              "    }\n",
              "  </style>\n",
              "\n",
              "      <script>\n",
              "        const buttonEl =\n",
              "          document.querySelector('#df-38af6494-f8b0-4e90-a10f-b164e7ed900e button.colab-df-convert');\n",
              "        buttonEl.style.display =\n",
              "          google.colab.kernel.accessAllowed ? 'block' : 'none';\n",
              "\n",
              "        async function convertToInteractive(key) {\n",
              "          const element = document.querySelector('#df-38af6494-f8b0-4e90-a10f-b164e7ed900e');\n",
              "          const dataTable =\n",
              "            await google.colab.kernel.invokeFunction('convertToInteractive',\n",
              "                                                     [key], {});\n",
              "          if (!dataTable) return;\n",
              "\n",
              "          const docLinkHtml = 'Like what you see? Visit the ' +\n",
              "            '<a target=\"_blank\" href=https://colab.research.google.com/notebooks/data_table.ipynb>data table notebook</a>'\n",
              "            + ' to learn more about interactive tables.';\n",
              "          element.innerHTML = '';\n",
              "          dataTable['output_type'] = 'display_data';\n",
              "          await google.colab.output.renderOutput(dataTable, element);\n",
              "          const docLink = document.createElement('div');\n",
              "          docLink.innerHTML = docLinkHtml;\n",
              "          element.appendChild(docLink);\n",
              "        }\n",
              "      </script>\n",
              "    </div>\n",
              "  </div>\n",
              "  "
            ]
          },
          "metadata": {},
          "execution_count": 306
        }
      ]
    },
    {
      "cell_type": "code",
      "source": [
        "# Checking for null values\n",
        "print(df.isnull().sum())"
      ],
      "metadata": {
        "id": "HRs330Ivukot",
        "colab": {
          "base_uri": "https://localhost:8080/"
        },
        "outputId": "b29269ac-e170-41ad-d8ba-62fa7aeb9a5c"
      },
      "execution_count": 307,
      "outputs": [
        {
          "output_type": "stream",
          "name": "stdout",
          "text": [
            "Dress_ID            0\n",
            "Style               0\n",
            "Price               2\n",
            "Rating              0\n",
            "Size                0\n",
            "Season              2\n",
            "NeckLine            3\n",
            "SleeveLength        2\n",
            "waiseline          87\n",
            "Material          128\n",
            "FabricType        266\n",
            "Decoration        236\n",
            "Pattern Type      109\n",
            "Recommendation      0\n",
            "dtype: int64\n"
          ]
        }
      ]
    },
    {
      "cell_type": "code",
      "source": [
        "# Dropping null values since it makes only around 0.55% of whole data\n",
        "DF = df.dropna()\n",
        "print(DF.isnull().sum())"
      ],
      "metadata": {
        "id": "JkYiT5eHux3A",
        "colab": {
          "base_uri": "https://localhost:8080/"
        },
        "outputId": "541c208f-02c4-4d50-c91f-0de135ab0c9f"
      },
      "execution_count": 308,
      "outputs": [
        {
          "output_type": "stream",
          "name": "stdout",
          "text": [
            "Dress_ID          0\n",
            "Style             0\n",
            "Price             0\n",
            "Rating            0\n",
            "Size              0\n",
            "Season            0\n",
            "NeckLine          0\n",
            "SleeveLength      0\n",
            "waiseline         0\n",
            "Material          0\n",
            "FabricType        0\n",
            "Decoration        0\n",
            "Pattern Type      0\n",
            "Recommendation    0\n",
            "dtype: int64\n"
          ]
        }
      ]
    },
    {
      "cell_type": "code",
      "source": [
        "df.shape"
      ],
      "metadata": {
        "colab": {
          "base_uri": "https://localhost:8080/"
        },
        "id": "-AjrbF5Eu25C",
        "outputId": "9904cdee-55bb-4977-fadf-108f6b8fa770"
      },
      "execution_count": 309,
      "outputs": [
        {
          "output_type": "execute_result",
          "data": {
            "text/plain": [
              "(500, 14)"
            ]
          },
          "metadata": {},
          "execution_count": 309
        }
      ]
    },
    {
      "cell_type": "code",
      "source": [
        "df.isnull().sum()"
      ],
      "metadata": {
        "colab": {
          "base_uri": "https://localhost:8080/"
        },
        "id": "haEaqve2d6GZ",
        "outputId": "c7d34190-9496-43a0-f6c1-a5114a1c53fd"
      },
      "execution_count": 310,
      "outputs": [
        {
          "output_type": "execute_result",
          "data": {
            "text/plain": [
              "Dress_ID            0\n",
              "Style               0\n",
              "Price               2\n",
              "Rating              0\n",
              "Size                0\n",
              "Season              2\n",
              "NeckLine            3\n",
              "SleeveLength        2\n",
              "waiseline          87\n",
              "Material          128\n",
              "FabricType        266\n",
              "Decoration        236\n",
              "Pattern Type      109\n",
              "Recommendation      0\n",
              "dtype: int64"
            ]
          },
          "metadata": {},
          "execution_count": 310
        }
      ]
    },
    {
      "cell_type": "code",
      "source": [
        "df.isnull().sum().sum()"
      ],
      "metadata": {
        "colab": {
          "base_uri": "https://localhost:8080/"
        },
        "id": "rP4CLolJeBjs",
        "outputId": "6068be27-5d7b-45c8-ac26-facefeed5044"
      },
      "execution_count": 311,
      "outputs": [
        {
          "output_type": "execute_result",
          "data": {
            "text/plain": [
              "835"
            ]
          },
          "metadata": {},
          "execution_count": 311
        }
      ]
    },
    {
      "cell_type": "code",
      "source": [
        "df = df.loc[:, df.notnull().any(axis = 0)]\n",
        "print (df)\n"
      ],
      "metadata": {
        "id": "wSYeQUatvJNh",
        "colab": {
          "base_uri": "https://localhost:8080/"
        },
        "outputId": "8690a7e4-7130-4f48-e5ba-d4e2952e0dbd"
      },
      "execution_count": 312,
      "outputs": [
        {
          "output_type": "stream",
          "name": "stdout",
          "text": [
            "       Dress_ID    Style    Price  Rating  Size  Season   NeckLine  \\\n",
            "0    1006032852     Sexy      Low     4.6     M  Summer     o-neck   \n",
            "1    1212192089   Casual      Low     0.0     L  Summer     o-neck   \n",
            "2    1190380701  vintage     High     0.0     L  Automn     o-neck   \n",
            "3     966005983    Brief  Average     4.6     L  Spring     o-neck   \n",
            "4     876339541     cute      Low     4.5     M  Summer     o-neck   \n",
            "..          ...      ...      ...     ...   ...     ...        ...   \n",
            "495   713391965   Casual      Low     4.7     M  Spring     o-neck   \n",
            "496   722565148     Sexy      Low     4.3  free  Summer     o-neck   \n",
            "497   532874347   Casual  Average     4.7     M  Summer     v-neck   \n",
            "498   655464934   Casual  Average     4.6     L  winter  boat-neck   \n",
            "499   919930954   Casual      Low     4.4  free  Summer     v-neck   \n",
            "\n",
            "    SleeveLength waiseline       Material  FabricType  Decoration  \\\n",
            "0      sleevless    empire            NaN     chiffon     ruffles   \n",
            "1          Petal   natural     microfiber         NaN     ruffles   \n",
            "2           full   natural       polyster         NaN         NaN   \n",
            "3           full   natural           silk     chiffon  embroidary   \n",
            "4      butterfly   natural  chiffonfabric     chiffon         bow   \n",
            "..           ...       ...            ...         ...         ...   \n",
            "495         full   natural       polyster         NaN         NaN   \n",
            "496         full    empire         cotton         NaN         NaN   \n",
            "497         full    empire         cotton         NaN        lace   \n",
            "498    sleevless    empire           silk  broadcloth    applique   \n",
            "499        short    empire         cotton    Corduroy        lace   \n",
            "\n",
            "    Pattern Type  Recommendation  \n",
            "0         animal               1  \n",
            "1         animal               0  \n",
            "2          print               0  \n",
            "3          print               1  \n",
            "4            dot               0  \n",
            "..           ...             ...  \n",
            "495        solid               1  \n",
            "496          NaN               0  \n",
            "497        solid               1  \n",
            "498        print               1  \n",
            "499        solid               0  \n",
            "\n",
            "[500 rows x 14 columns]\n"
          ]
        }
      ]
    },
    {
      "cell_type": "code",
      "source": [
        "df.drop(\"Dress_ID\", axis='columns', inplace = True)\n",
        "print(df.head())"
      ],
      "metadata": {
        "colab": {
          "base_uri": "https://localhost:8080/"
        },
        "id": "-shZ0KNceKVs",
        "outputId": "a2f36942-c258-472a-af7f-275163ffbdb7"
      },
      "execution_count": 313,
      "outputs": [
        {
          "output_type": "stream",
          "name": "stdout",
          "text": [
            "     Style    Price  Rating Size  Season NeckLine SleeveLength waiseline  \\\n",
            "0     Sexy      Low     4.6    M  Summer   o-neck    sleevless    empire   \n",
            "1   Casual      Low     0.0    L  Summer   o-neck        Petal   natural   \n",
            "2  vintage     High     0.0    L  Automn   o-neck         full   natural   \n",
            "3    Brief  Average     4.6    L  Spring   o-neck         full   natural   \n",
            "4     cute      Low     4.5    M  Summer   o-neck    butterfly   natural   \n",
            "\n",
            "        Material FabricType  Decoration Pattern Type  Recommendation  \n",
            "0            NaN    chiffon     ruffles       animal               1  \n",
            "1     microfiber        NaN     ruffles       animal               0  \n",
            "2       polyster        NaN         NaN        print               0  \n",
            "3           silk    chiffon  embroidary        print               1  \n",
            "4  chiffonfabric    chiffon         bow          dot               0  \n"
          ]
        }
      ]
    },
    {
      "cell_type": "code",
      "source": [
        "df.rename(columns = {'Recommendation':'Sentiment'}, inplace = True)\n",
        "print(df.columns)"
      ],
      "metadata": {
        "colab": {
          "base_uri": "https://localhost:8080/"
        },
        "id": "S4r4qcHPeUsf",
        "outputId": "3661a305-7bae-477c-e410-0344074957d2"
      },
      "execution_count": 314,
      "outputs": [
        {
          "output_type": "stream",
          "name": "stdout",
          "text": [
            "Index(['Style', 'Price', 'Rating', 'Size', 'Season', 'NeckLine',\n",
            "       'SleeveLength', 'waiseline', 'Material', 'FabricType', 'Decoration',\n",
            "       'Pattern Type', 'Sentiment'],\n",
            "      dtype='object')\n"
          ]
        }
      ]
    },
    {
      "cell_type": "code",
      "source": [
        "df.info()"
      ],
      "metadata": {
        "id": "ADfeiXL3vb2o",
        "colab": {
          "base_uri": "https://localhost:8080/"
        },
        "outputId": "77a1b029-8995-4cea-bf85-a7aeb5cb7740"
      },
      "execution_count": 315,
      "outputs": [
        {
          "output_type": "stream",
          "name": "stdout",
          "text": [
            "<class 'pandas.core.frame.DataFrame'>\n",
            "RangeIndex: 500 entries, 0 to 499\n",
            "Data columns (total 13 columns):\n",
            " #   Column        Non-Null Count  Dtype  \n",
            "---  ------        --------------  -----  \n",
            " 0   Style         500 non-null    object \n",
            " 1   Price         498 non-null    object \n",
            " 2   Rating        500 non-null    float64\n",
            " 3   Size          500 non-null    object \n",
            " 4   Season        498 non-null    object \n",
            " 5   NeckLine      497 non-null    object \n",
            " 6   SleeveLength  498 non-null    object \n",
            " 7   waiseline     413 non-null    object \n",
            " 8   Material      372 non-null    object \n",
            " 9   FabricType    234 non-null    object \n",
            " 10  Decoration    264 non-null    object \n",
            " 11  Pattern Type  391 non-null    object \n",
            " 12  Sentiment     500 non-null    int64  \n",
            "dtypes: float64(1), int64(1), object(11)\n",
            "memory usage: 50.9+ KB\n"
          ]
        }
      ]
    },
    {
      "cell_type": "code",
      "source": [
        "df.describe()"
      ],
      "metadata": {
        "id": "Ut2G8hnlyhKf",
        "colab": {
          "base_uri": "https://localhost:8080/",
          "height": 300
        },
        "outputId": "acde11b7-4092-42f0-e8d9-a79079ed23cc"
      },
      "execution_count": 316,
      "outputs": [
        {
          "output_type": "execute_result",
          "data": {
            "text/plain": [
              "           Rating   Sentiment\n",
              "count  500.000000  500.000000\n",
              "mean     3.528600    0.420000\n",
              "std      2.005364    0.494053\n",
              "min      0.000000    0.000000\n",
              "25%      3.700000    0.000000\n",
              "50%      4.600000    0.000000\n",
              "75%      4.800000    1.000000\n",
              "max      5.000000    1.000000"
            ],
            "text/html": [
              "\n",
              "  <div id=\"df-0387e8b9-8e4a-4860-81e7-04e2c958c93d\">\n",
              "    <div class=\"colab-df-container\">\n",
              "      <div>\n",
              "<style scoped>\n",
              "    .dataframe tbody tr th:only-of-type {\n",
              "        vertical-align: middle;\n",
              "    }\n",
              "\n",
              "    .dataframe tbody tr th {\n",
              "        vertical-align: top;\n",
              "    }\n",
              "\n",
              "    .dataframe thead th {\n",
              "        text-align: right;\n",
              "    }\n",
              "</style>\n",
              "<table border=\"1\" class=\"dataframe\">\n",
              "  <thead>\n",
              "    <tr style=\"text-align: right;\">\n",
              "      <th></th>\n",
              "      <th>Rating</th>\n",
              "      <th>Sentiment</th>\n",
              "    </tr>\n",
              "  </thead>\n",
              "  <tbody>\n",
              "    <tr>\n",
              "      <th>count</th>\n",
              "      <td>500.000000</td>\n",
              "      <td>500.000000</td>\n",
              "    </tr>\n",
              "    <tr>\n",
              "      <th>mean</th>\n",
              "      <td>3.528600</td>\n",
              "      <td>0.420000</td>\n",
              "    </tr>\n",
              "    <tr>\n",
              "      <th>std</th>\n",
              "      <td>2.005364</td>\n",
              "      <td>0.494053</td>\n",
              "    </tr>\n",
              "    <tr>\n",
              "      <th>min</th>\n",
              "      <td>0.000000</td>\n",
              "      <td>0.000000</td>\n",
              "    </tr>\n",
              "    <tr>\n",
              "      <th>25%</th>\n",
              "      <td>3.700000</td>\n",
              "      <td>0.000000</td>\n",
              "    </tr>\n",
              "    <tr>\n",
              "      <th>50%</th>\n",
              "      <td>4.600000</td>\n",
              "      <td>0.000000</td>\n",
              "    </tr>\n",
              "    <tr>\n",
              "      <th>75%</th>\n",
              "      <td>4.800000</td>\n",
              "      <td>1.000000</td>\n",
              "    </tr>\n",
              "    <tr>\n",
              "      <th>max</th>\n",
              "      <td>5.000000</td>\n",
              "      <td>1.000000</td>\n",
              "    </tr>\n",
              "  </tbody>\n",
              "</table>\n",
              "</div>\n",
              "      <button class=\"colab-df-convert\" onclick=\"convertToInteractive('df-0387e8b9-8e4a-4860-81e7-04e2c958c93d')\"\n",
              "              title=\"Convert this dataframe to an interactive table.\"\n",
              "              style=\"display:none;\">\n",
              "        \n",
              "  <svg xmlns=\"http://www.w3.org/2000/svg\" height=\"24px\"viewBox=\"0 0 24 24\"\n",
              "       width=\"24px\">\n",
              "    <path d=\"M0 0h24v24H0V0z\" fill=\"none\"/>\n",
              "    <path d=\"M18.56 5.44l.94 2.06.94-2.06 2.06-.94-2.06-.94-.94-2.06-.94 2.06-2.06.94zm-11 1L8.5 8.5l.94-2.06 2.06-.94-2.06-.94L8.5 2.5l-.94 2.06-2.06.94zm10 10l.94 2.06.94-2.06 2.06-.94-2.06-.94-.94-2.06-.94 2.06-2.06.94z\"/><path d=\"M17.41 7.96l-1.37-1.37c-.4-.4-.92-.59-1.43-.59-.52 0-1.04.2-1.43.59L10.3 9.45l-7.72 7.72c-.78.78-.78 2.05 0 2.83L4 21.41c.39.39.9.59 1.41.59.51 0 1.02-.2 1.41-.59l7.78-7.78 2.81-2.81c.8-.78.8-2.07 0-2.86zM5.41 20L4 18.59l7.72-7.72 1.47 1.35L5.41 20z\"/>\n",
              "  </svg>\n",
              "      </button>\n",
              "      \n",
              "  <style>\n",
              "    .colab-df-container {\n",
              "      display:flex;\n",
              "      flex-wrap:wrap;\n",
              "      gap: 12px;\n",
              "    }\n",
              "\n",
              "    .colab-df-convert {\n",
              "      background-color: #E8F0FE;\n",
              "      border: none;\n",
              "      border-radius: 50%;\n",
              "      cursor: pointer;\n",
              "      display: none;\n",
              "      fill: #1967D2;\n",
              "      height: 32px;\n",
              "      padding: 0 0 0 0;\n",
              "      width: 32px;\n",
              "    }\n",
              "\n",
              "    .colab-df-convert:hover {\n",
              "      background-color: #E2EBFA;\n",
              "      box-shadow: 0px 1px 2px rgba(60, 64, 67, 0.3), 0px 1px 3px 1px rgba(60, 64, 67, 0.15);\n",
              "      fill: #174EA6;\n",
              "    }\n",
              "\n",
              "    [theme=dark] .colab-df-convert {\n",
              "      background-color: #3B4455;\n",
              "      fill: #D2E3FC;\n",
              "    }\n",
              "\n",
              "    [theme=dark] .colab-df-convert:hover {\n",
              "      background-color: #434B5C;\n",
              "      box-shadow: 0px 1px 3px 1px rgba(0, 0, 0, 0.15);\n",
              "      filter: drop-shadow(0px 1px 2px rgba(0, 0, 0, 0.3));\n",
              "      fill: #FFFFFF;\n",
              "    }\n",
              "  </style>\n",
              "\n",
              "      <script>\n",
              "        const buttonEl =\n",
              "          document.querySelector('#df-0387e8b9-8e4a-4860-81e7-04e2c958c93d button.colab-df-convert');\n",
              "        buttonEl.style.display =\n",
              "          google.colab.kernel.accessAllowed ? 'block' : 'none';\n",
              "\n",
              "        async function convertToInteractive(key) {\n",
              "          const element = document.querySelector('#df-0387e8b9-8e4a-4860-81e7-04e2c958c93d');\n",
              "          const dataTable =\n",
              "            await google.colab.kernel.invokeFunction('convertToInteractive',\n",
              "                                                     [key], {});\n",
              "          if (!dataTable) return;\n",
              "\n",
              "          const docLinkHtml = 'Like what you see? Visit the ' +\n",
              "            '<a target=\"_blank\" href=https://colab.research.google.com/notebooks/data_table.ipynb>data table notebook</a>'\n",
              "            + ' to learn more about interactive tables.';\n",
              "          element.innerHTML = '';\n",
              "          dataTable['output_type'] = 'display_data';\n",
              "          await google.colab.output.renderOutput(dataTable, element);\n",
              "          const docLink = document.createElement('div');\n",
              "          docLink.innerHTML = docLinkHtml;\n",
              "          element.appendChild(docLink);\n",
              "        }\n",
              "      </script>\n",
              "    </div>\n",
              "  </div>\n",
              "  "
            ]
          },
          "metadata": {},
          "execution_count": 316
        }
      ]
    },
    {
      "cell_type": "code",
      "source": [
        "from sklearn.model_selection import train_test_split\n",
        "X_train, X_test, y_train, y_test = train_test_split(df['Rating'], df['Sentiment'], test_size=0.2, random_state=0)\n",
        "print (\"The Train set size \", X_train.shape)\n",
        "print (\"The Test set size \", X_test.shape)"
      ],
      "metadata": {
        "id": "Hc2Ew7Z1enY0"
      },
      "execution_count": null,
      "outputs": []
    },
    {
      "cell_type": "code",
      "source": [
        "# printing all columns of the dataframe\n",
        "print(df.columns.tolist())"
      ],
      "metadata": {
        "colab": {
          "base_uri": "https://localhost:8080/"
        },
        "id": "FIJmElm9sBOj",
        "outputId": "7238c9c9-0633-451e-f3b8-07e2fa80f8ee"
      },
      "execution_count": 362,
      "outputs": [
        {
          "output_type": "stream",
          "name": "stdout",
          "text": [
            "['Style', 'Price', 'Rating', 'Size', 'Season', 'NeckLine', 'SleeveLength', 'waiseline', 'Material', 'FabricType', 'Decoration', 'Pattern Type', 'Sentiment']\n"
          ]
        }
      ]
    },
    {
      "cell_type": "code",
      "source": [
        "#Value Counts for Rating\n",
        "df['Rating'].value_counts()"
      ],
      "metadata": {
        "id": "b8xwgqD_y709"
      },
      "execution_count": null,
      "outputs": []
    },
    {
      "cell_type": "code",
      "source": [
        "#Value Counts for Sentiment\n",
        "df['Sentiment'].value_counts()"
      ],
      "metadata": {
        "id": "saJlZZM0zNRQ",
        "colab": {
          "base_uri": "https://localhost:8080/"
        },
        "outputId": "a1196cef-1ada-4b50-bcf7-17cd9874c402"
      },
      "execution_count": 363,
      "outputs": [
        {
          "output_type": "execute_result",
          "data": {
            "text/plain": [
              "0    59\n",
              "1    40\n",
              "Name: Sentiment, dtype: int64"
            ]
          },
          "metadata": {},
          "execution_count": 363
        }
      ]
    },
    {
      "cell_type": "code",
      "source": [
        "#Value Counts for Size\n",
        "df['Size'].value_counts()"
      ],
      "metadata": {
        "colab": {
          "base_uri": "https://localhost:8080/"
        },
        "id": "WbqcH-H1Bxl-",
        "outputId": "c75e0d01-b515-4f93-b7a1-b6d69212bf1a"
      },
      "execution_count": 322,
      "outputs": [
        {
          "output_type": "execute_result",
          "data": {
            "text/plain": [
              "M        177\n",
              "free     173\n",
              "L         96\n",
              "S         37\n",
              "XL        15\n",
              "small      1\n",
              "s          1\n",
              "Name: Size, dtype: int64"
            ]
          },
          "metadata": {},
          "execution_count": 322
        }
      ]
    },
    {
      "cell_type": "code",
      "source": [
        "#Value Counts for Season\n",
        "df['Season'].value_counts()"
      ],
      "metadata": {
        "id": "HlrWnAWvfSoo",
        "colab": {
          "base_uri": "https://localhost:8080/"
        },
        "outputId": "76668888-6381-4c55-ecce-f756b7cbdae1"
      },
      "execution_count": 321,
      "outputs": [
        {
          "output_type": "execute_result",
          "data": {
            "text/plain": [
              "Summer    159\n",
              "Spring    122\n",
              "Winter     99\n",
              "Automn     61\n",
              "winter     46\n",
              "Autumn      8\n",
              "spring      2\n",
              "summer      1\n",
              "Name: Season, dtype: int64"
            ]
          },
          "metadata": {},
          "execution_count": 321
        }
      ]
    },
    {
      "cell_type": "code",
      "source": [
        "df.columns"
      ],
      "metadata": {
        "colab": {
          "base_uri": "https://localhost:8080/"
        },
        "id": "n5AFpcL3v0f4",
        "outputId": "93dbcd4f-6048-4e23-963d-2f3ea7007c80"
      },
      "execution_count": 323,
      "outputs": [
        {
          "output_type": "execute_result",
          "data": {
            "text/plain": [
              "Index(['Style', 'Price', 'Rating', 'Size', 'Season', 'NeckLine',\n",
              "       'SleeveLength', 'waiseline', 'Material', 'FabricType', 'Decoration',\n",
              "       'Pattern Type', 'Sentiment'],\n",
              "      dtype='object')"
            ]
          },
          "metadata": {},
          "execution_count": 323
        }
      ]
    },
    {
      "cell_type": "code",
      "source": [
        "df.Size.replace({'M':\"Medium\", 'L':'Large', 'XL':'Extra Large', 'free':'Free', 'S':'Small', 's':'Small', 'small':'Small'},inplace =True)"
      ],
      "metadata": {
        "id": "CBpM5BNtCSbT"
      },
      "execution_count": 324,
      "outputs": []
    },
    {
      "cell_type": "code",
      "source": [
        "# Print the value counts of each category in \"Size\" column.\n",
        "df.Size.value_counts()/df.Size.shape[0] *100.0"
      ],
      "metadata": {
        "id": "WZjMYxkQDH2I",
        "colab": {
          "base_uri": "https://localhost:8080/"
        },
        "outputId": "0f420c37-586b-4f40-a7ef-17d647bd1486"
      },
      "execution_count": 325,
      "outputs": [
        {
          "output_type": "execute_result",
          "data": {
            "text/plain": [
              "Medium         35.4\n",
              "Free           34.6\n",
              "Large          19.2\n",
              "Small           7.8\n",
              "Extra Large     3.0\n",
              "Name: Size, dtype: float64"
            ]
          },
          "metadata": {},
          "execution_count": 325
        }
      ]
    },
    {
      "cell_type": "code",
      "source": [
        "# Print the value counts of each category in \"Style\" column.\n",
        "df.Style.value_counts()/df.Style.shape[0] *100.0"
      ],
      "metadata": {
        "colab": {
          "base_uri": "https://localhost:8080/"
        },
        "id": "NEOJho0NQ7no",
        "outputId": "75d62b46-1750-43e9-c86a-0d5d5edd9424"
      },
      "execution_count": 326,
      "outputs": [
        {
          "output_type": "execute_result",
          "data": {
            "text/plain": [
              "Casual      46.4\n",
              "Sexy        13.8\n",
              "party       10.2\n",
              "cute         9.0\n",
              "vintage      5.0\n",
              "bohemian     4.8\n",
              "Brief        3.6\n",
              "work         3.4\n",
              "Novelty      1.6\n",
              "sexy         1.4\n",
              "Flare        0.4\n",
              "OL           0.2\n",
              "fashion      0.2\n",
              "Name: Style, dtype: float64"
            ]
          },
          "metadata": {},
          "execution_count": 326
        }
      ]
    },
    {
      "cell_type": "code",
      "source": [
        "df.sum()"
      ],
      "metadata": {
        "colab": {
          "base_uri": "https://localhost:8080/"
        },
        "id": "JbGYXpB_wBF3",
        "outputId": "bb64b6a8-2566-49da-89e2-fe4f622ad29c"
      },
      "execution_count": 327,
      "outputs": [
        {
          "output_type": "execute_result",
          "data": {
            "text/plain": [
              "Style        SexyCasualvintageBriefcutebohemianCasualNovelt...\n",
              "Rating                                                  1764.3\n",
              "Size         MediumLargeLargeLargeMediumMediumExtra LargeFr...\n",
              "Sentiment                                                  210\n",
              "dtype: object"
            ]
          },
          "metadata": {},
          "execution_count": 327
        }
      ]
    },
    {
      "cell_type": "code",
      "source": [
        "#correcting the spellings.\n",
        "df.Season= df.Season.replace('Automn', \"Autumn\")\n",
        "\n",
        "df.Season= df.Season.replace('spring', \"Spring\")\n",
        "\n",
        "df.Season= df.Season.replace('winter', \"Winter\")"
      ],
      "metadata": {
        "id": "CkZ-kneCwkRu"
      },
      "execution_count": 328,
      "outputs": []
    },
    {
      "cell_type": "code",
      "source": [
        "print(df.Season)"
      ],
      "metadata": {
        "id": "1x4D3I8tCdur",
        "colab": {
          "base_uri": "https://localhost:8080/"
        },
        "outputId": "0f17395d-b424-4ce4-e5bf-1f7be06ec2b3"
      },
      "execution_count": 329,
      "outputs": [
        {
          "output_type": "stream",
          "name": "stdout",
          "text": [
            "0      Summer\n",
            "1      Summer\n",
            "2      Autumn\n",
            "3      Spring\n",
            "4      Summer\n",
            "        ...  \n",
            "495    Spring\n",
            "496    Summer\n",
            "497    Summer\n",
            "498    Winter\n",
            "499    Summer\n",
            "Name: Season, Length: 500, dtype: object\n"
          ]
        }
      ]
    },
    {
      "cell_type": "markdown",
      "source": [
        "EDA"
      ],
      "metadata": {
        "id": "CYzKooZtIVaC"
      }
    },
    {
      "cell_type": "code",
      "source": [
        "# Calculate the percentage of each categories in the \"Style\" variable.\n",
        "(round(df.Style.value_counts(normalize=True)*100.0,1)).plot.barh()\n",
        "plt.show()"
      ],
      "metadata": {
        "id": "JjWw8vM4IWZQ",
        "colab": {
          "base_uri": "https://localhost:8080/",
          "height": 371
        },
        "outputId": "1c5c5ea0-98dd-46e9-e469-785d2388e72d"
      },
      "execution_count": 330,
      "outputs": [
        {
          "output_type": "display_data",
          "data": {
            "text/plain": [
              "<Figure size 800x400 with 1 Axes>"
            ],
            "image/png": "[encoded data removed]"
          },
          "metadata": {}
        }
      ]
    },
    {
      "cell_type": "code",
      "source": [
        "# Calculate the percentage of each categories in the \"Season\" variable.\n",
        "(round(df.Season.value_counts(normalize=True)*100.0,1)).plot.barh()\n",
        "plt.show()"
      ],
      "metadata": {
        "colab": {
          "base_uri": "https://localhost:8080/",
          "height": 371
        },
        "id": "IDMxzBxmCxX1",
        "outputId": "4440a689-797b-4915-b8b8-0684c7ee0060"
      },
      "execution_count": 331,
      "outputs": [
        {
          "output_type": "display_data",
          "data": {
            "text/plain": [
              "<Figure size 800x400 with 1 Axes>"
            ],
            "image/png": "[encoded data removed]"
          },
          "metadata": {}
        }
      ]
    },
    {
      "cell_type": "code",
      "source": [
        "df.groupby(by = 'Price')['Rating'].mean()"
      ],
      "metadata": {
        "id": "5nLvSNpHzmHb",
        "colab": {
          "base_uri": "https://localhost:8080/"
        },
        "outputId": "c900e4d2-51a0-4cf6-aff8-3c469bf06bf0"
      },
      "execution_count": 333,
      "outputs": [
        {
          "output_type": "execute_result",
          "data": {
            "text/plain": [
              "Price\n",
              "Average      3.500794\n",
              "High         1.600000\n",
              "Low          3.572093\n",
              "Medium       3.156667\n",
              "high         3.440000\n",
              "low          4.233333\n",
              "very-high    3.123810\n",
              "Name: Rating, dtype: float64"
            ]
          },
          "metadata": {},
          "execution_count": 333
        }
      ]
    },
    {
      "cell_type": "code",
      "source": [
        "sns.boxplot(data = df, x = 'Price', y = 'Rating', palette= 'RdYlBu')\n",
        "plt.show()"
      ],
      "metadata": {
        "id": "fVHRavLvztpE",
        "colab": {
          "base_uri": "https://localhost:8080/",
          "height": 389
        },
        "outputId": "50b27f13-5e66-4be1-d493-ef5dad6f2a89"
      },
      "execution_count": 334,
      "outputs": [
        {
          "output_type": "display_data",
          "data": {
            "text/plain": [
              "<Figure size 800x400 with 1 Axes>"
            ],
            "image/png": "[encoded data removed]"
          },
          "metadata": {}
        }
      ]
    },
    {
      "cell_type": "code",
      "source": [
        "print(df.groupby('Sentiment').mean())\n",
        "sns.boxplot(data=df, x=\"Sentiment\")\n",
        "plt.show()"
      ],
      "metadata": {
        "id": "uZ99C7-hz3JU",
        "colab": {
          "base_uri": "https://localhost:8080/",
          "height": 458
        },
        "outputId": "81f97dd9-d7ef-41a6-adcc-3d66c362320b"
      },
      "execution_count": 364,
      "outputs": [
        {
          "output_type": "stream",
          "name": "stdout",
          "text": [
            "             Rating\n",
            "Sentiment          \n",
            "0          3.774576\n",
            "1          3.102500\n"
          ]
        },
        {
          "output_type": "display_data",
          "data": {
            "text/plain": [
              "<Figure size 800x400 with 1 Axes>"
            ],
            "image/png": "[encoded data removed]"
          },
          "metadata": {}
        }
      ]
    },
    {
      "cell_type": "code",
      "source": [
        "df.groupby(['Size'])['Sentiment'].mean().plot.bar()\n",
        "plt.show()"
      ],
      "metadata": {
        "id": "SmItD-Ik0FxU",
        "colab": {
          "base_uri": "https://localhost:8080/",
          "height": 447
        },
        "outputId": "c6356be2-c8e0-4139-a066-49441211f2f2"
      },
      "execution_count": 365,
      "outputs": [
        {
          "output_type": "display_data",
          "data": {
            "text/plain": [
              "<Figure size 800x400 with 1 Axes>"
            ],
            "image/png": "[encoded data removed]"
          },
          "metadata": {}
        }
      ]
    },
    {
      "cell_type": "code",
      "source": [
        "res = pd.pivot_table(data=df, index=\"Style\", columns=\"Price\", values=\"Sentiment\")\n",
        "sns.heatmap(res, cmap=\"RdYlGn\", annot=True, center=0.427)\n",
        "plt.show()"
      ],
      "metadata": {
        "id": "nt6KaBpb0YRS",
        "colab": {
          "base_uri": "https://localhost:8080/",
          "height": 394
        },
        "outputId": "7585938a-0bab-4730-e0fc-b3e31ec53594"
      },
      "execution_count": 366,
      "outputs": [
        {
          "output_type": "display_data",
          "data": {
            "text/plain": [
              "<Figure size 800x400 with 2 Axes>"
            ],
            "image/png": "[encoded data removed]"
          },
          "metadata": {}
        }
      ]
    },
    {
      "cell_type": "code",
      "source": [
        "# Find the median of Ratings for each Style category.\n",
        "df['Rating'].groupby(df['Style']).median()"
      ],
      "metadata": {
        "id": "kfpPj2qkRaA7",
        "colab": {
          "base_uri": "https://localhost:8080/"
        },
        "outputId": "82ccde8b-49bc-4e82-91e0-bbb3e24b008b"
      },
      "execution_count": 338,
      "outputs": [
        {
          "output_type": "execute_result",
          "data": {
            "text/plain": [
              "Style\n",
              "Brief       4.60\n",
              "Casual      4.60\n",
              "Flare       0.00\n",
              "Novelty     2.10\n",
              "OL          0.00\n",
              "Sexy        4.60\n",
              "bohemian    4.65\n",
              "cute        4.60\n",
              "fashion     4.00\n",
              "party       4.70\n",
              "sexy        4.50\n",
              "vintage     4.60\n",
              "work        4.70\n",
              "Name: Rating, dtype: float64"
            ]
          },
          "metadata": {},
          "execution_count": 338
        }
      ]
    },
    {
      "cell_type": "code",
      "source": [
        "# Find the median of Ratings for each Style category.\n",
        "df['Sentiment'].groupby(df['Season']).mean()"
      ],
      "metadata": {
        "colab": {
          "base_uri": "https://localhost:8080/"
        },
        "id": "uSbnMCnHSFhg",
        "outputId": "168351be-4c7e-4753-dea4-daf0c1f0ec06"
      },
      "execution_count": 367,
      "outputs": [
        {
          "output_type": "execute_result",
          "data": {
            "text/plain": [
              "Season\n",
              "Autumn    0.153846\n",
              "Spring    0.666667\n",
              "Summer    0.285714\n",
              "Winter    0.357143\n",
              "Name: Sentiment, dtype: float64"
            ]
          },
          "metadata": {},
          "execution_count": 367
        }
      ]
    },
    {
      "cell_type": "markdown",
      "source": [
        "Input/Remove Missing Values"
      ],
      "metadata": {
        "id": "LbtWBIUFDlsT"
      }
    },
    {
      "cell_type": "code",
      "source": [
        "print(df.info())"
      ],
      "metadata": {
        "id": "H9Yv3camDtbX",
        "colab": {
          "base_uri": "https://localhost:8080/"
        },
        "outputId": "35aac0f4-8633-49b3-802b-13fc3a73c991"
      },
      "execution_count": 340,
      "outputs": [
        {
          "output_type": "stream",
          "name": "stdout",
          "text": [
            "<class 'pandas.core.frame.DataFrame'>\n",
            "RangeIndex: 500 entries, 0 to 499\n",
            "Data columns (total 13 columns):\n",
            " #   Column        Non-Null Count  Dtype  \n",
            "---  ------        --------------  -----  \n",
            " 0   Style         500 non-null    object \n",
            " 1   Price         498 non-null    object \n",
            " 2   Rating        500 non-null    float64\n",
            " 3   Size          500 non-null    object \n",
            " 4   Season        498 non-null    object \n",
            " 5   NeckLine      497 non-null    object \n",
            " 6   SleeveLength  498 non-null    object \n",
            " 7   waiseline     413 non-null    object \n",
            " 8   Material      372 non-null    object \n",
            " 9   FabricType    234 non-null    object \n",
            " 10  Decoration    264 non-null    object \n",
            " 11  Pattern Type  391 non-null    object \n",
            " 12  Sentiment     500 non-null    int64  \n",
            "dtypes: float64(1), int64(1), object(11)\n",
            "memory usage: 50.9+ KB\n",
            "None\n"
          ]
        }
      ]
    },
    {
      "cell_type": "code",
      "source": [
        "missing_val = pd.DataFrame(df.isnull().sum())\n",
        "missing_val = missing_val.reset_index()\n",
        "missing_val"
      ],
      "metadata": {
        "id": "XL6XSMXUhHug",
        "colab": {
          "base_uri": "https://localhost:8080/",
          "height": 457
        },
        "outputId": "1fa2eb9d-a7d5-4874-adad-0070074c818c"
      },
      "execution_count": 341,
      "outputs": [
        {
          "output_type": "execute_result",
          "data": {
            "text/plain": [
              "           index    0\n",
              "0          Style    0\n",
              "1          Price    2\n",
              "2         Rating    0\n",
              "3           Size    0\n",
              "4         Season    2\n",
              "5       NeckLine    3\n",
              "6   SleeveLength    2\n",
              "7      waiseline   87\n",
              "8       Material  128\n",
              "9     FabricType  266\n",
              "10    Decoration  236\n",
              "11  Pattern Type  109\n",
              "12     Sentiment    0"
            ],
            "text/html": [
              "\n",
              "  <div id=\"df-0ed0864c-a6cb-4155-a516-816d59520c1f\">\n",
              "    <div class=\"colab-df-container\">\n",
              "      <div>\n",
              "<style scoped>\n",
              "    .dataframe tbody tr th:only-of-type {\n",
              "        vertical-align: middle;\n",
              "    }\n",
              "\n",
              "    .dataframe tbody tr th {\n",
              "        vertical-align: top;\n",
              "    }\n",
              "\n",
              "    .dataframe thead th {\n",
              "        text-align: right;\n",
              "    }\n",
              "</style>\n",
              "<table border=\"1\" class=\"dataframe\">\n",
              "  <thead>\n",
              "    <tr style=\"text-align: right;\">\n",
              "      <th></th>\n",
              "      <th>index</th>\n",
              "      <th>0</th>\n",
              "    </tr>\n",
              "  </thead>\n",
              "  <tbody>\n",
              "    <tr>\n",
              "      <th>0</th>\n",
              "      <td>Style</td>\n",
              "      <td>0</td>\n",
              "    </tr>\n",
              "    <tr>\n",
              "      <th>1</th>\n",
              "      <td>Price</td>\n",
              "      <td>2</td>\n",
              "    </tr>\n",
              "    <tr>\n",
              "      <th>2</th>\n",
              "      <td>Rating</td>\n",
              "      <td>0</td>\n",
              "    </tr>\n",
              "    <tr>\n",
              "      <th>3</th>\n",
              "      <td>Size</td>\n",
              "      <td>0</td>\n",
              "    </tr>\n",
              "    <tr>\n",
              "      <th>4</th>\n",
              "      <td>Season</td>\n",
              "      <td>2</td>\n",
              "    </tr>\n",
              "    <tr>\n",
              "      <th>5</th>\n",
              "      <td>NeckLine</td>\n",
              "      <td>3</td>\n",
              "    </tr>\n",
              "    <tr>\n",
              "      <th>6</th>\n",
              "      <td>SleeveLength</td>\n",
              "      <td>2</td>\n",
              "    </tr>\n",
              "    <tr>\n",
              "      <th>7</th>\n",
              "      <td>waiseline</td>\n",
              "      <td>87</td>\n",
              "    </tr>\n",
              "    <tr>\n",
              "      <th>8</th>\n",
              "      <td>Material</td>\n",
              "      <td>128</td>\n",
              "    </tr>\n",
              "    <tr>\n",
              "      <th>9</th>\n",
              "      <td>FabricType</td>\n",
              "      <td>266</td>\n",
              "    </tr>\n",
              "    <tr>\n",
              "      <th>10</th>\n",
              "      <td>Decoration</td>\n",
              "      <td>236</td>\n",
              "    </tr>\n",
              "    <tr>\n",
              "      <th>11</th>\n",
              "      <td>Pattern Type</td>\n",
              "      <td>109</td>\n",
              "    </tr>\n",
              "    <tr>\n",
              "      <th>12</th>\n",
              "      <td>Sentiment</td>\n",
              "      <td>0</td>\n",
              "    </tr>\n",
              "  </tbody>\n",
              "</table>\n",
              "</div>\n",
              "      <button class=\"colab-df-convert\" onclick=\"convertToInteractive('df-0ed0864c-a6cb-4155-a516-816d59520c1f')\"\n",
              "              title=\"Convert this dataframe to an interactive table.\"\n",
              "              style=\"display:none;\">\n",
              "        \n",
              "  <svg xmlns=\"http://www.w3.org/2000/svg\" height=\"24px\"viewBox=\"0 0 24 24\"\n",
              "       width=\"24px\">\n",
              "    <path d=\"M0 0h24v24H0V0z\" fill=\"none\"/>\n",
              "    <path d=\"M18.56 5.44l.94 2.06.94-2.06 2.06-.94-2.06-.94-.94-2.06-.94 2.06-2.06.94zm-11 1L8.5 8.5l.94-2.06 2.06-.94-2.06-.94L8.5 2.5l-.94 2.06-2.06.94zm10 10l.94 2.06.94-2.06 2.06-.94-2.06-.94-.94-2.06-.94 2.06-2.06.94z\"/><path d=\"M17.41 7.96l-1.37-1.37c-.4-.4-.92-.59-1.43-.59-.52 0-1.04.2-1.43.59L10.3 9.45l-7.72 7.72c-.78.78-.78 2.05 0 2.83L4 21.41c.39.39.9.59 1.41.59.51 0 1.02-.2 1.41-.59l7.78-7.78 2.81-2.81c.8-.78.8-2.07 0-2.86zM5.41 20L4 18.59l7.72-7.72 1.47 1.35L5.41 20z\"/>\n",
              "  </svg>\n",
              "      </button>\n",
              "      \n",
              "  <style>\n",
              "    .colab-df-container {\n",
              "      display:flex;\n",
              "      flex-wrap:wrap;\n",
              "      gap: 12px;\n",
              "    }\n",
              "\n",
              "    .colab-df-convert {\n",
              "      background-color: #E8F0FE;\n",
              "      border: none;\n",
              "      border-radius: 50%;\n",
              "      cursor: pointer;\n",
              "      display: none;\n",
              "      fill: #1967D2;\n",
              "      height: 32px;\n",
              "      padding: 0 0 0 0;\n",
              "      width: 32px;\n",
              "    }\n",
              "\n",
              "    .colab-df-convert:hover {\n",
              "      background-color: #E2EBFA;\n",
              "      box-shadow: 0px 1px 2px rgba(60, 64, 67, 0.3), 0px 1px 3px 1px rgba(60, 64, 67, 0.15);\n",
              "      fill: #174EA6;\n",
              "    }\n",
              "\n",
              "    [theme=dark] .colab-df-convert {\n",
              "      background-color: #3B4455;\n",
              "      fill: #D2E3FC;\n",
              "    }\n",
              "\n",
              "    [theme=dark] .colab-df-convert:hover {\n",
              "      background-color: #434B5C;\n",
              "      box-shadow: 0px 1px 3px 1px rgba(0, 0, 0, 0.15);\n",
              "      filter: drop-shadow(0px 1px 2px rgba(0, 0, 0, 0.3));\n",
              "      fill: #FFFFFF;\n",
              "    }\n",
              "  </style>\n",
              "\n",
              "      <script>\n",
              "        const buttonEl =\n",
              "          document.querySelector('#df-0ed0864c-a6cb-4155-a516-816d59520c1f button.colab-df-convert');\n",
              "        buttonEl.style.display =\n",
              "          google.colab.kernel.accessAllowed ? 'block' : 'none';\n",
              "\n",
              "        async function convertToInteractive(key) {\n",
              "          const element = document.querySelector('#df-0ed0864c-a6cb-4155-a516-816d59520c1f');\n",
              "          const dataTable =\n",
              "            await google.colab.kernel.invokeFunction('convertToInteractive',\n",
              "                                                     [key], {});\n",
              "          if (!dataTable) return;\n",
              "\n",
              "          const docLinkHtml = 'Like what you see? Visit the ' +\n",
              "            '<a target=\"_blank\" href=https://colab.research.google.com/notebooks/data_table.ipynb>data table notebook</a>'\n",
              "            + ' to learn more about interactive tables.';\n",
              "          element.innerHTML = '';\n",
              "          dataTable['output_type'] = 'display_data';\n",
              "          await google.colab.output.renderOutput(dataTable, element);\n",
              "          const docLink = document.createElement('div');\n",
              "          docLink.innerHTML = docLinkHtml;\n",
              "          element.appendChild(docLink);\n",
              "        }\n",
              "      </script>\n",
              "    </div>\n",
              "  </div>\n",
              "  "
            ]
          },
          "metadata": {},
          "execution_count": 341
        }
      ]
    },
    {
      "cell_type": "code",
      "source": [
        "df[df['Price'].isna()]"
      ],
      "metadata": {
        "id": "W1_gLOFFhvbT",
        "colab": {
          "base_uri": "https://localhost:8080/",
          "height": 112
        },
        "outputId": "fa040a9c-9d1c-4024-ce70-6fa2aa051e7c"
      },
      "execution_count": 342,
      "outputs": [
        {
          "output_type": "execute_result",
          "data": {
            "text/plain": [
              "     Style Price  Rating   Size  Season NeckLine SleeveLength waiseline  \\\n",
              "262  party   NaN     4.8   Free  Winter   o-neck    sleevless    empire   \n",
              "263  party   NaN     4.5  Large  Summer      NaN         full       NaN   \n",
              "\n",
              "    Material FabricType  Decoration Pattern Type  Sentiment  \n",
              "262      NaN        NaN  embroidary          NaN          1  \n",
              "263      NaN        NaN         NaN          NaN          1  "
            ],
            "text/html": [
              "\n",
              "  <div id=\"df-e001f9b9-27cb-4fa6-819a-81e59cd89f82\">\n",
              "    <div class=\"colab-df-container\">\n",
              "      <div>\n",
              "<style scoped>\n",
              "    .dataframe tbody tr th:only-of-type {\n",
              "        vertical-align: middle;\n",
              "    }\n",
              "\n",
              "    .dataframe tbody tr th {\n",
              "        vertical-align: top;\n",
              "    }\n",
              "\n",
              "    .dataframe thead th {\n",
              "        text-align: right;\n",
              "    }\n",
              "</style>\n",
              "<table border=\"1\" class=\"dataframe\">\n",
              "  <thead>\n",
              "    <tr style=\"text-align: right;\">\n",
              "      <th></th>\n",
              "      <th>Style</th>\n",
              "      <th>Price</th>\n",
              "      <th>Rating</th>\n",
              "      <th>Size</th>\n",
              "      <th>Season</th>\n",
              "      <th>NeckLine</th>\n",
              "      <th>SleeveLength</th>\n",
              "      <th>waiseline</th>\n",
              "      <th>Material</th>\n",
              "      <th>FabricType</th>\n",
              "      <th>Decoration</th>\n",
              "      <th>Pattern Type</th>\n",
              "      <th>Sentiment</th>\n",
              "    </tr>\n",
              "  </thead>\n",
              "  <tbody>\n",
              "    <tr>\n",
              "      <th>262</th>\n",
              "      <td>party</td>\n",
              "      <td>NaN</td>\n",
              "      <td>4.8</td>\n",
              "      <td>Free</td>\n",
              "      <td>Winter</td>\n",
              "      <td>o-neck</td>\n",
              "      <td>sleevless</td>\n",
              "      <td>empire</td>\n",
              "      <td>NaN</td>\n",
              "      <td>NaN</td>\n",
              "      <td>embroidary</td>\n",
              "      <td>NaN</td>\n",
              "      <td>1</td>\n",
              "    </tr>\n",
              "    <tr>\n",
              "      <th>263</th>\n",
              "      <td>party</td>\n",
              "      <td>NaN</td>\n",
              "      <td>4.5</td>\n",
              "      <td>Large</td>\n",
              "      <td>Summer</td>\n",
              "      <td>NaN</td>\n",
              "      <td>full</td>\n",
              "      <td>NaN</td>\n",
              "      <td>NaN</td>\n",
              "      <td>NaN</td>\n",
              "      <td>NaN</td>\n",
              "      <td>NaN</td>\n",
              "      <td>1</td>\n",
              "    </tr>\n",
              "  </tbody>\n",
              "</table>\n",
              "</div>\n",
              "      <button class=\"colab-df-convert\" onclick=\"convertToInteractive('df-e001f9b9-27cb-4fa6-819a-81e59cd89f82')\"\n",
              "              title=\"Convert this dataframe to an interactive table.\"\n",
              "              style=\"display:none;\">\n",
              "        \n",
              "  <svg xmlns=\"http://www.w3.org/2000/svg\" height=\"24px\"viewBox=\"0 0 24 24\"\n",
              "       width=\"24px\">\n",
              "    <path d=\"M0 0h24v24H0V0z\" fill=\"none\"/>\n",
              "    <path d=\"M18.56 5.44l.94 2.06.94-2.06 2.06-.94-2.06-.94-.94-2.06-.94 2.06-2.06.94zm-11 1L8.5 8.5l.94-2.06 2.06-.94-2.06-.94L8.5 2.5l-.94 2.06-2.06.94zm10 10l.94 2.06.94-2.06 2.06-.94-2.06-.94-.94-2.06-.94 2.06-2.06.94z\"/><path d=\"M17.41 7.96l-1.37-1.37c-.4-.4-.92-.59-1.43-.59-.52 0-1.04.2-1.43.59L10.3 9.45l-7.72 7.72c-.78.78-.78 2.05 0 2.83L4 21.41c.39.39.9.59 1.41.59.51 0 1.02-.2 1.41-.59l7.78-7.78 2.81-2.81c.8-.78.8-2.07 0-2.86zM5.41 20L4 18.59l7.72-7.72 1.47 1.35L5.41 20z\"/>\n",
              "  </svg>\n",
              "      </button>\n",
              "      \n",
              "  <style>\n",
              "    .colab-df-container {\n",
              "      display:flex;\n",
              "      flex-wrap:wrap;\n",
              "      gap: 12px;\n",
              "    }\n",
              "\n",
              "    .colab-df-convert {\n",
              "      background-color: #E8F0FE;\n",
              "      border: none;\n",
              "      border-radius: 50%;\n",
              "      cursor: pointer;\n",
              "      display: none;\n",
              "      fill: #1967D2;\n",
              "      height: 32px;\n",
              "      padding: 0 0 0 0;\n",
              "      width: 32px;\n",
              "    }\n",
              "\n",
              "    .colab-df-convert:hover {\n",
              "      background-color: #E2EBFA;\n",
              "      box-shadow: 0px 1px 2px rgba(60, 64, 67, 0.3), 0px 1px 3px 1px rgba(60, 64, 67, 0.15);\n",
              "      fill: #174EA6;\n",
              "    }\n",
              "\n",
              "    [theme=dark] .colab-df-convert {\n",
              "      background-color: #3B4455;\n",
              "      fill: #D2E3FC;\n",
              "    }\n",
              "\n",
              "    [theme=dark] .colab-df-convert:hover {\n",
              "      background-color: #434B5C;\n",
              "      box-shadow: 0px 1px 3px 1px rgba(0, 0, 0, 0.15);\n",
              "      filter: drop-shadow(0px 1px 2px rgba(0, 0, 0, 0.3));\n",
              "      fill: #FFFFFF;\n",
              "    }\n",
              "  </style>\n",
              "\n",
              "      <script>\n",
              "        const buttonEl =\n",
              "          document.querySelector('#df-e001f9b9-27cb-4fa6-819a-81e59cd89f82 button.colab-df-convert');\n",
              "        buttonEl.style.display =\n",
              "          google.colab.kernel.accessAllowed ? 'block' : 'none';\n",
              "\n",
              "        async function convertToInteractive(key) {\n",
              "          const element = document.querySelector('#df-e001f9b9-27cb-4fa6-819a-81e59cd89f82');\n",
              "          const dataTable =\n",
              "            await google.colab.kernel.invokeFunction('convertToInteractive',\n",
              "                                                     [key], {});\n",
              "          if (!dataTable) return;\n",
              "\n",
              "          const docLinkHtml = 'Like what you see? Visit the ' +\n",
              "            '<a target=\"_blank\" href=https://colab.research.google.com/notebooks/data_table.ipynb>data table notebook</a>'\n",
              "            + ' to learn more about interactive tables.';\n",
              "          element.innerHTML = '';\n",
              "          dataTable['output_type'] = 'display_data';\n",
              "          await google.colab.output.renderOutput(dataTable, element);\n",
              "          const docLink = document.createElement('div');\n",
              "          docLink.innerHTML = docLinkHtml;\n",
              "          element.appendChild(docLink);\n",
              "        }\n",
              "      </script>\n",
              "    </div>\n",
              "  </div>\n",
              "  "
            ]
          },
          "metadata": {},
          "execution_count": 342
        }
      ]
    },
    {
      "cell_type": "code",
      "source": [
        "#correcting the spellings.\n",
        "df['Season'].unique()"
      ],
      "metadata": {
        "colab": {
          "base_uri": "https://localhost:8080/"
        },
        "id": "MYEz6_Q7PqzW",
        "outputId": "9409ffe4-a0ac-4c36-8bb9-0bfd48b247e7"
      },
      "execution_count": 344,
      "outputs": [
        {
          "output_type": "execute_result",
          "data": {
            "text/plain": [
              "array(['Spring', 'Summer', 'Autumn', 'Winter'], dtype=object)"
            ]
          },
          "metadata": {},
          "execution_count": 344
        }
      ]
    },
    {
      "cell_type": "code",
      "source": [
        "#replacement of Season\n",
        "df['Season'].replace(['Automn','winter'], ['Autumn','Winter'], inplace=True)\n",
        "df['Season'].unique()"
      ],
      "metadata": {
        "colab": {
          "base_uri": "https://localhost:8080/"
        },
        "id": "kJDSIUzlPzdu",
        "outputId": "5f703996-2c1f-4c5a-8caf-ed3836b5012e"
      },
      "execution_count": 368,
      "outputs": [
        {
          "output_type": "execute_result",
          "data": {
            "text/plain": [
              "array(['Spring', 'Summer', 'Autumn', 'Winter'], dtype=object)"
            ]
          },
          "metadata": {},
          "execution_count": 368
        }
      ]
    },
    {
      "cell_type": "code",
      "source": [
        "df['SleeveLength'].unique()"
      ],
      "metadata": {
        "colab": {
          "base_uri": "https://localhost:8080/"
        },
        "id": "jG6jeHkkQB7l",
        "outputId": "b465e86f-5b85-4ba7-e58e-09f45f052834"
      },
      "execution_count": 369,
      "outputs": [
        {
          "output_type": "execute_result",
          "data": {
            "text/plain": [
              "array(['full', 'butterfly', 'short', 'sleevless', 'halfsleeve',\n",
              "       'threequarter', 'thressqatar'], dtype=object)"
            ]
          },
          "metadata": {},
          "execution_count": 369
        }
      ]
    },
    {
      "cell_type": "code",
      "source": [
        "df['SleeveLength'].replace(['thressqatar'], ['threequarter'], inplace=True)\n",
        "df['SleeveLength'].unique()"
      ],
      "metadata": {
        "colab": {
          "base_uri": "https://localhost:8080/"
        },
        "id": "FeltHj8LQJRj",
        "outputId": "eb46af8e-e52e-4078-c979-de4e139736bc"
      },
      "execution_count": 370,
      "outputs": [
        {
          "output_type": "execute_result",
          "data": {
            "text/plain": [
              "array(['full', 'butterfly', 'short', 'sleevless', 'halfsleeve',\n",
              "       'threequarter'], dtype=object)"
            ]
          },
          "metadata": {},
          "execution_count": 370
        }
      ]
    },
    {
      "cell_type": "code",
      "source": [
        "df.isnull().sum().sum()"
      ],
      "metadata": {
        "colab": {
          "base_uri": "https://localhost:8080/"
        },
        "id": "Jk8EUafbQbxX",
        "outputId": "93ebfe80-196d-45f0-e869-90f365ee4e3e"
      },
      "execution_count": 371,
      "outputs": [
        {
          "output_type": "execute_result",
          "data": {
            "text/plain": [
              "0"
            ]
          },
          "metadata": {},
          "execution_count": 371
        }
      ]
    },
    {
      "cell_type": "code",
      "source": [
        "from sklearn.model_selection import train_test_split\n",
        "X = df\n",
        "y = df\n",
        "X_train, X_test, y_train, y_test = train_test_split(X, y, test_size=0.2, random_state=4)\n",
        "print(X,y)"
      ],
      "metadata": {
        "id": "kBSN8xdD0ohb"
      },
      "execution_count": null,
      "outputs": []
    },
    {
      "cell_type": "code",
      "source": [
        "print(df['Sentiment'])"
      ],
      "metadata": {
        "id": "G3MmhnnB2wjl",
        "colab": {
          "base_uri": "https://localhost:8080/"
        },
        "outputId": "f21ba3fc-cdd8-414a-a7da-ecd252758d09"
      },
      "execution_count": 372,
      "outputs": [
        {
          "output_type": "stream",
          "name": "stdout",
          "text": [
            "3      1\n",
            "4      0\n",
            "8      1\n",
            "10     0\n",
            "28     0\n",
            "      ..\n",
            "488    0\n",
            "490    0\n",
            "493    1\n",
            "498    1\n",
            "499    0\n",
            "Name: Sentiment, Length: 99, dtype: int64\n"
          ]
        }
      ]
    },
    {
      "cell_type": "code",
      "source": [
        "\n",
        "#Sentiment\n",
        "df['Sentiment'] = np.where(df['Sentiment'] > 5, 1, 0)\n",
        "df.head()\n",
        "     \n"
      ],
      "metadata": {
        "id": "uTTYId0r3Wgl",
        "colab": {
          "base_uri": "https://localhost:8080/",
          "height": 206
        },
        "outputId": "43af19ba-dff3-496a-f733-84c79c05f1d6"
      },
      "execution_count": 373,
      "outputs": [
        {
          "output_type": "execute_result",
          "data": {
            "text/plain": [
              "    Style    Price  Rating    Size  Season NeckLine SleeveLength waiseline  \\\n",
              "3   Brief  Average     4.6   Large  Spring   o-neck         full   natural   \n",
              "4    cute      Low     4.5  Medium  Summer   o-neck    butterfly   natural   \n",
              "8   Flare  Average     0.0    Free  Spring   v-neck        short    empire   \n",
              "10  party  Average     5.0    Free  Summer   o-neck         full   natural   \n",
              "28   cute      Low     4.3    Free  Autumn   o-neck    sleevless   natural   \n",
              "\n",
              "         Material  FabricType  Decoration Pattern Type  Sentiment  \n",
              "3            silk     chiffon  embroidary        print          0  \n",
              "4   chiffonfabric     chiffon         bow          dot          0  \n",
              "8          cotton  broadcloth     beading        solid          0  \n",
              "10       polyster  broadcloth        lace        solid          0  \n",
              "28       polyster     chiffon      sashes      striped          0  "
            ],
            "text/html": [
              "\n",
              "  <div id=\"df-1eb5fab2-ecb7-4324-afea-fc590b33abc6\">\n",
              "    <div class=\"colab-df-container\">\n",
              "      <div>\n",
              "<style scoped>\n",
              "    .dataframe tbody tr th:only-of-type {\n",
              "        vertical-align: middle;\n",
              "    }\n",
              "\n",
              "    .dataframe tbody tr th {\n",
              "        vertical-align: top;\n",
              "    }\n",
              "\n",
              "    .dataframe thead th {\n",
              "        text-align: right;\n",
              "    }\n",
              "</style>\n",
              "<table border=\"1\" class=\"dataframe\">\n",
              "  <thead>\n",
              "    <tr style=\"text-align: right;\">\n",
              "      <th></th>\n",
              "      <th>Style</th>\n",
              "      <th>Price</th>\n",
              "      <th>Rating</th>\n",
              "      <th>Size</th>\n",
              "      <th>Season</th>\n",
              "      <th>NeckLine</th>\n",
              "      <th>SleeveLength</th>\n",
              "      <th>waiseline</th>\n",
              "      <th>Material</th>\n",
              "      <th>FabricType</th>\n",
              "      <th>Decoration</th>\n",
              "      <th>Pattern Type</th>\n",
              "      <th>Sentiment</th>\n",
              "    </tr>\n",
              "  </thead>\n",
              "  <tbody>\n",
              "    <tr>\n",
              "      <th>3</th>\n",
              "      <td>Brief</td>\n",
              "      <td>Average</td>\n",
              "      <td>4.6</td>\n",
              "      <td>Large</td>\n",
              "      <td>Spring</td>\n",
              "      <td>o-neck</td>\n",
              "      <td>full</td>\n",
              "      <td>natural</td>\n",
              "      <td>silk</td>\n",
              "      <td>chiffon</td>\n",
              "      <td>embroidary</td>\n",
              "      <td>print</td>\n",
              "      <td>0</td>\n",
              "    </tr>\n",
              "    <tr>\n",
              "      <th>4</th>\n",
              "      <td>cute</td>\n",
              "      <td>Low</td>\n",
              "      <td>4.5</td>\n",
              "      <td>Medium</td>\n",
              "      <td>Summer</td>\n",
              "      <td>o-neck</td>\n",
              "      <td>butterfly</td>\n",
              "      <td>natural</td>\n",
              "      <td>chiffonfabric</td>\n",
              "      <td>chiffon</td>\n",
              "      <td>bow</td>\n",
              "      <td>dot</td>\n",
              "      <td>0</td>\n",
              "    </tr>\n",
              "    <tr>\n",
              "      <th>8</th>\n",
              "      <td>Flare</td>\n",
              "      <td>Average</td>\n",
              "      <td>0.0</td>\n",
              "      <td>Free</td>\n",
              "      <td>Spring</td>\n",
              "      <td>v-neck</td>\n",
              "      <td>short</td>\n",
              "      <td>empire</td>\n",
              "      <td>cotton</td>\n",
              "      <td>broadcloth</td>\n",
              "      <td>beading</td>\n",
              "      <td>solid</td>\n",
              "      <td>0</td>\n",
              "    </tr>\n",
              "    <tr>\n",
              "      <th>10</th>\n",
              "      <td>party</td>\n",
              "      <td>Average</td>\n",
              "      <td>5.0</td>\n",
              "      <td>Free</td>\n",
              "      <td>Summer</td>\n",
              "      <td>o-neck</td>\n",
              "      <td>full</td>\n",
              "      <td>natural</td>\n",
              "      <td>polyster</td>\n",
              "      <td>broadcloth</td>\n",
              "      <td>lace</td>\n",
              "      <td>solid</td>\n",
              "      <td>0</td>\n",
              "    </tr>\n",
              "    <tr>\n",
              "      <th>28</th>\n",
              "      <td>cute</td>\n",
              "      <td>Low</td>\n",
              "      <td>4.3</td>\n",
              "      <td>Free</td>\n",
              "      <td>Autumn</td>\n",
              "      <td>o-neck</td>\n",
              "      <td>sleevless</td>\n",
              "      <td>natural</td>\n",
              "      <td>polyster</td>\n",
              "      <td>chiffon</td>\n",
              "      <td>sashes</td>\n",
              "      <td>striped</td>\n",
              "      <td>0</td>\n",
              "    </tr>\n",
              "  </tbody>\n",
              "</table>\n",
              "</div>\n",
              "      <button class=\"colab-df-convert\" onclick=\"convertToInteractive('df-1eb5fab2-ecb7-4324-afea-fc590b33abc6')\"\n",
              "              title=\"Convert this dataframe to an interactive table.\"\n",
              "              style=\"display:none;\">\n",
              "        \n",
              "  <svg xmlns=\"http://www.w3.org/2000/svg\" height=\"24px\"viewBox=\"0 0 24 24\"\n",
              "       width=\"24px\">\n",
              "    <path d=\"M0 0h24v24H0V0z\" fill=\"none\"/>\n",
              "    <path d=\"M18.56 5.44l.94 2.06.94-2.06 2.06-.94-2.06-.94-.94-2.06-.94 2.06-2.06.94zm-11 1L8.5 8.5l.94-2.06 2.06-.94-2.06-.94L8.5 2.5l-.94 2.06-2.06.94zm10 10l.94 2.06.94-2.06 2.06-.94-2.06-.94-.94-2.06-.94 2.06-2.06.94z\"/><path d=\"M17.41 7.96l-1.37-1.37c-.4-.4-.92-.59-1.43-.59-.52 0-1.04.2-1.43.59L10.3 9.45l-7.72 7.72c-.78.78-.78 2.05 0 2.83L4 21.41c.39.39.9.59 1.41.59.51 0 1.02-.2 1.41-.59l7.78-7.78 2.81-2.81c.8-.78.8-2.07 0-2.86zM5.41 20L4 18.59l7.72-7.72 1.47 1.35L5.41 20z\"/>\n",
              "  </svg>\n",
              "      </button>\n",
              "      \n",
              "  <style>\n",
              "    .colab-df-container {\n",
              "      display:flex;\n",
              "      flex-wrap:wrap;\n",
              "      gap: 12px;\n",
              "    }\n",
              "\n",
              "    .colab-df-convert {\n",
              "      background-color: #E8F0FE;\n",
              "      border: none;\n",
              "      border-radius: 50%;\n",
              "      cursor: pointer;\n",
              "      display: none;\n",
              "      fill: #1967D2;\n",
              "      height: 32px;\n",
              "      padding: 0 0 0 0;\n",
              "      width: 32px;\n",
              "    }\n",
              "\n",
              "    .colab-df-convert:hover {\n",
              "      background-color: #E2EBFA;\n",
              "      box-shadow: 0px 1px 2px rgba(60, 64, 67, 0.3), 0px 1px 3px 1px rgba(60, 64, 67, 0.15);\n",
              "      fill: #174EA6;\n",
              "    }\n",
              "\n",
              "    [theme=dark] .colab-df-convert {\n",
              "      background-color: #3B4455;\n",
              "      fill: #D2E3FC;\n",
              "    }\n",
              "\n",
              "    [theme=dark] .colab-df-convert:hover {\n",
              "      background-color: #434B5C;\n",
              "      box-shadow: 0px 1px 3px 1px rgba(0, 0, 0, 0.15);\n",
              "      filter: drop-shadow(0px 1px 2px rgba(0, 0, 0, 0.3));\n",
              "      fill: #FFFFFF;\n",
              "    }\n",
              "  </style>\n",
              "\n",
              "      <script>\n",
              "        const buttonEl =\n",
              "          document.querySelector('#df-1eb5fab2-ecb7-4324-afea-fc590b33abc6 button.colab-df-convert');\n",
              "        buttonEl.style.display =\n",
              "          google.colab.kernel.accessAllowed ? 'block' : 'none';\n",
              "\n",
              "        async function convertToInteractive(key) {\n",
              "          const element = document.querySelector('#df-1eb5fab2-ecb7-4324-afea-fc590b33abc6');\n",
              "          const dataTable =\n",
              "            await google.colab.kernel.invokeFunction('convertToInteractive',\n",
              "                                                     [key], {});\n",
              "          if (!dataTable) return;\n",
              "\n",
              "          const docLinkHtml = 'Like what you see? Visit the ' +\n",
              "            '<a target=\"_blank\" href=https://colab.research.google.com/notebooks/data_table.ipynb>data table notebook</a>'\n",
              "            + ' to learn more about interactive tables.';\n",
              "          element.innerHTML = '';\n",
              "          dataTable['output_type'] = 'display_data';\n",
              "          await google.colab.output.renderOutput(dataTable, element);\n",
              "          const docLink = document.createElement('div');\n",
              "          docLink.innerHTML = docLinkHtml;\n",
              "          element.appendChild(docLink);\n",
              "        }\n",
              "      </script>\n",
              "    </div>\n",
              "  </div>\n",
              "  "
            ]
          },
          "metadata": {},
          "execution_count": 373
        }
      ]
    },
    {
      "cell_type": "code",
      "source": [
        "df['Sentiment'].value_counts()"
      ],
      "metadata": {
        "id": "ydxpNry43oxW",
        "colab": {
          "base_uri": "https://localhost:8080/"
        },
        "outputId": "b8a520c2-944f-4434-93a6-5ec7914beeb9"
      },
      "execution_count": 348,
      "outputs": [
        {
          "output_type": "execute_result",
          "data": {
            "text/plain": [
              "0    59\n",
              "1    40\n",
              "Name: Sentiment, dtype: int64"
            ]
          },
          "metadata": {},
          "execution_count": 348
        }
      ]
    },
    {
      "cell_type": "code",
      "source": [
        "sns.set(font_scale = 0.8, style = 'darkgrid')\n",
        "plt.rcParams['figure.figsize'] = [8, 4]\n",
        "sns.countplot(x=df[\"Sentiment\"])\n",
        "     "
      ],
      "metadata": {
        "id": "74FrRflb3wwQ",
        "colab": {
          "base_uri": "https://localhost:8080/",
          "height": 406
        },
        "outputId": "4d23ec4c-83f9-40f3-f781-c0f68cf20e01"
      },
      "execution_count": 349,
      "outputs": [
        {
          "output_type": "execute_result",
          "data": {
            "text/plain": [
              "<Axes: xlabel='Sentiment', ylabel='count'>"
            ]
          },
          "metadata": {},
          "execution_count": 349
        },
        {
          "output_type": "display_data",
          "data": {
            "text/plain": [
              "<Figure size 800x400 with 1 Axes>"
            ],
            "image/png": "[encoded data removed]"
          },
          "metadata": {}
        }
      ]
    },
    {
      "cell_type": "code",
      "source": [
        "df['Sentiment'].describe()"
      ],
      "metadata": {
        "id": "PI9bAUX9387g",
        "colab": {
          "base_uri": "https://localhost:8080/"
        },
        "outputId": "b0f33193-6c4e-49ca-f284-6a097b25dd60"
      },
      "execution_count": 350,
      "outputs": [
        {
          "output_type": "execute_result",
          "data": {
            "text/plain": [
              "count    99.000000\n",
              "mean      0.404040\n",
              "std       0.493203\n",
              "min       0.000000\n",
              "25%       0.000000\n",
              "50%       0.000000\n",
              "75%       1.000000\n",
              "max       1.000000\n",
              "Name: Sentiment, dtype: float64"
            ]
          },
          "metadata": {},
          "execution_count": 350
        }
      ]
    },
    {
      "cell_type": "markdown",
      "source": [
        "TRAIN TEST SPLIT\n"
      ],
      "metadata": {
        "id": "eCdmbzyq4MuF"
      }
    },
    {
      "cell_type": "code",
      "source": [
        "X_train = df.loc[:,'Rating'].values\n",
        "y_train = df.loc[:,['Size']].values\n"
      ],
      "metadata": {
        "id": "VdJAp1wR4Pzi"
      },
      "execution_count": 351,
      "outputs": []
    },
    {
      "cell_type": "code",
      "source": [
        "print(X_train)\n"
      ],
      "metadata": {
        "id": "EmttspQmDlk3",
        "colab": {
          "base_uri": "https://localhost:8080/"
        },
        "outputId": "16104db4-c4cc-46dd-d68a-ab8f67460204"
      },
      "execution_count": 352,
      "outputs": [
        {
          "output_type": "stream",
          "name": "stdout",
          "text": [
            "[4.6 4.5 0.  5.  4.3 4.7 4.6 0.  4.4 5.  4.4 4.8 0.  0.  4.6 5.  0.  0.\n",
            " 4.8 5.  4.7 0.  0.  4.8 4.7 0.  4.5 3.6 4.8 4.9 4.6 0.  4.7 4.5 0.  0.\n",
            " 4.5 4.8 4.6 5.  4.3 0.  4.8 4.3 4.8 4.6 0.  4.7 4.7 0.  4.7 4.4 4.2 0.\n",
            " 4.2 5.  5.  4.8 4.5 4.9 4.7 4.8 4.7 4.  5.  4.8 4.8 4.  4.5 4.6 4.  0.\n",
            " 5.  4.7 4.6 4.6 4.8 4.9 4.4 0.  0.  4.9 4.5 4.6 4.5 4.7 4.3 0.  0.  0.\n",
            " 4.7 4.6 0.  0.  4.4 4.8 4.6 4.6 4.4]\n"
          ]
        }
      ]
    },
    {
      "cell_type": "code",
      "source": [
        "print(y_train)"
      ],
      "metadata": {
        "id": "z2eTdYJ6Kih1",
        "colab": {
          "base_uri": "https://localhost:8080/"
        },
        "outputId": "d1ae56d2-0b17-4c01-c353-a0a0c2c953e0"
      },
      "execution_count": 353,
      "outputs": [
        {
          "output_type": "stream",
          "name": "stdout",
          "text": [
            "[['Large']\n",
            " ['Medium']\n",
            " ['Free']\n",
            " ['Free']\n",
            " ['Free']\n",
            " ['Medium']\n",
            " ['Large']\n",
            " ['Medium']\n",
            " ['Large']\n",
            " ['Free']\n",
            " ['Large']\n",
            " ['Medium']\n",
            " ['Medium']\n",
            " ['Large']\n",
            " ['Free']\n",
            " ['Medium']\n",
            " ['Free']\n",
            " ['Medium']\n",
            " ['Free']\n",
            " ['Medium']\n",
            " ['Medium']\n",
            " ['Free']\n",
            " ['Medium']\n",
            " ['Large']\n",
            " ['Medium']\n",
            " ['Free']\n",
            " ['Free']\n",
            " ['Large']\n",
            " ['Large']\n",
            " ['Medium']\n",
            " ['Free']\n",
            " ['Medium']\n",
            " ['Extra Large']\n",
            " ['Large']\n",
            " ['Small']\n",
            " ['Large']\n",
            " ['Free']\n",
            " ['Extra Large']\n",
            " ['Large']\n",
            " ['Large']\n",
            " ['Medium']\n",
            " ['Free']\n",
            " ['Medium']\n",
            " ['Free']\n",
            " ['Free']\n",
            " ['Free']\n",
            " ['Medium']\n",
            " ['Large']\n",
            " ['Medium']\n",
            " ['Medium']\n",
            " ['Free']\n",
            " ['Free']\n",
            " ['Small']\n",
            " ['Free']\n",
            " ['Medium']\n",
            " ['Free']\n",
            " ['Free']\n",
            " ['Free']\n",
            " ['Medium']\n",
            " ['Medium']\n",
            " ['Free']\n",
            " ['Medium']\n",
            " ['Large']\n",
            " ['Free']\n",
            " ['Free']\n",
            " ['Small']\n",
            " ['Free']\n",
            " ['Free']\n",
            " ['Large']\n",
            " ['Medium']\n",
            " ['Free']\n",
            " ['Extra Large']\n",
            " ['Free']\n",
            " ['Large']\n",
            " ['Medium']\n",
            " ['Free']\n",
            " ['Medium']\n",
            " ['Large']\n",
            " ['Free']\n",
            " ['Free']\n",
            " ['Free']\n",
            " ['Medium']\n",
            " ['Large']\n",
            " ['Free']\n",
            " ['Free']\n",
            " ['Large']\n",
            " ['Medium']\n",
            " ['Free']\n",
            " ['Free']\n",
            " ['Large']\n",
            " ['Medium']\n",
            " ['Medium']\n",
            " ['Free']\n",
            " ['Free']\n",
            " ['Medium']\n",
            " ['Free']\n",
            " ['Free']\n",
            " ['Large']\n",
            " ['Free']]\n"
          ]
        }
      ]
    },
    {
      "cell_type": "code",
      "source": [
        "X_train.shape"
      ],
      "metadata": {
        "colab": {
          "base_uri": "https://localhost:8080/"
        },
        "id": "F_fcfmas4XqY",
        "outputId": "f88f070c-2174-4ffe-a926-31c0a600da61"
      },
      "execution_count": 354,
      "outputs": [
        {
          "output_type": "execute_result",
          "data": {
            "text/plain": [
              "(99,)"
            ]
          },
          "metadata": {},
          "execution_count": 354
        }
      ]
    },
    {
      "cell_type": "code",
      "source": [
        "y_train.shape"
      ],
      "metadata": {
        "colab": {
          "base_uri": "https://localhost:8080/"
        },
        "id": "y7mb0msI4eUK",
        "outputId": "e94a7f4b-9172-4a08-dd03-1cad19356ea1"
      },
      "execution_count": 355,
      "outputs": [
        {
          "output_type": "execute_result",
          "data": {
            "text/plain": [
              "(99, 1)"
            ]
          },
          "metadata": {},
          "execution_count": 355
        }
      ]
    },
    {
      "cell_type": "code",
      "source": [
        "from sklearn.model_selection import train_test_split\n",
        "X_train, X_test, y_train, y_test = train_test_split(df['Rating'], df['Sentiment'], test_size=0.2, random_state=0)\n",
        "print (\"The Train set size \", X_train.shape)\n",
        "print (\"The Test set size \", X_test.shape)"
      ],
      "metadata": {
        "colab": {
          "base_uri": "https://localhost:8080/"
        },
        "id": "01q1p7GKe0cJ",
        "outputId": "66d81184-2357-48ee-8b88-65df997d5a3c"
      },
      "execution_count": 356,
      "outputs": [
        {
          "output_type": "stream",
          "name": "stdout",
          "text": [
            "The Train set size  (79,)\n",
            "The Test set size  (20,)\n"
          ]
        }
      ]
    },
    {
      "cell_type": "markdown",
      "source": [
        "Logistic Regression"
      ],
      "metadata": {
        "id": "qsv1fvSbe7ka"
      }
    },
    {
      "cell_type": "code",
      "source": [
        "from sklearn.linear_model import LogisticRegression"
      ],
      "metadata": {
        "id": "3u7gRlXhe723"
      },
      "execution_count": 357,
      "outputs": []
    },
    {
      "cell_type": "code",
      "source": [
        "X_train= X_train.reshape(-1, 1)\n",
        "X_test = X_test.reshape(-1, 1)\n"
      ],
      "metadata": {
        "id": "vB7XRVwLe90R"
      },
      "execution_count": null,
      "outputs": []
    },
    {
      "cell_type": "code",
      "source": [
        "lr = LogisticRegression()\n",
        "lr.fit(X_train, y_train)"
      ],
      "metadata": {
        "id": "ijTx8q-5fFCs"
      },
      "execution_count": null,
      "outputs": []
    },
    {
      "cell_type": "code",
      "source": [
        "def modelEvaluation(predictions):\n",
        "    '''\n",
        "    Print model evaluation to predicted result \n",
        "    '''\n",
        "    print (\"\\nAccuracy on validation set: {:.4f}\".format(accuracy_score(y_test, predictions)))\n",
        "    print(\"\\nAUC score : {:.4f}\".format(roc_auc_score(y_test, predictions)))\n",
        "    print(\"\\nClassification report : \\n\", metrics.classification_report(y_test, predictions))\n",
        "    print(\"\\nConfusion Matrix : \\n\", metrics.confusion_matrix(y_test, predictions))"
      ],
      "metadata": {
        "id": "PAXuC09aioAw"
      },
      "execution_count": null,
      "outputs": []
    },
    {
      "cell_type": "code",
      "source": [
        "from sklearn import metrics\n",
        "from sklearn.metrics import roc_auc_score, accuracy_score"
      ],
      "metadata": {
        "id": "gdEF44dmite1"
      },
      "execution_count": null,
      "outputs": []
    },
    {
      "cell_type": "code",
      "source": [
        "predictions = lr.predict(X_test)\n",
        "modelEvaluation(predictions)"
      ],
      "metadata": {
        "id": "AJXHz7_Piy4L"
      },
      "execution_count": null,
      "outputs": []
    }
  ]
}